{
 "cells": [
  {
   "cell_type": "code",
   "execution_count": 3,
   "metadata": {},
   "outputs": [],
   "source": [
    "# imports\n",
    "import pickle\n",
    "\n",
    "import pandas as pd\n",
    "from sklearn import preprocessing\n",
    "from sklearn.model_selection import train_test_split"
   ]
  },
  {
   "cell_type": "code",
   "execution_count": 5,
   "metadata": {},
   "outputs": [
    {
     "name": "stderr",
     "output_type": "stream",
     "text": [
      "/Users/moritz/miniconda3/envs/fusionbase_3.9/lib/python3.9/site-packages/sklearn/base.py:329: UserWarning: Trying to unpickle estimator LabelBinarizer from version 1.0.2 when using version 1.1.1. This might lead to breaking code or invalid results. Use at your own risk. For more info please refer to:\n",
      "https://scikit-learn.org/stable/model_persistence.html#security-maintainability-limitations\n",
      "  warnings.warn(\n",
      "/Users/moritz/miniconda3/envs/fusionbase_3.9/lib/python3.9/site-packages/sklearn/base.py:329: UserWarning: Trying to unpickle estimator MLPClassifier from version 1.0.2 when using version 1.1.1. This might lead to breaking code or invalid results. Use at your own risk. For more info please refer to:\n",
      "https://scikit-learn.org/stable/model_persistence.html#security-maintainability-limitations\n",
      "  warnings.warn(\n"
     ]
    }
   ],
   "source": [
    "# load the Model\n",
    "with open('../models/mlp_classifier.pkl', 'rb') as f:\n",
    "    model = pickle.load(f)\n",
    "\n",
    "\n",
    "def normalise_data(round_num: int,  team_score: int,  current_side: str, starting_side: str,  buy_type: str) -> pd.DataFrame:\n",
    "  df = pd.read_feather(\n",
    "      '../data/processed/team_score_and_buy__dataset__training.feather')\n",
    "  \n",
    "  label_encoder = preprocessing.LabelEncoder()\n",
    "  categorical_value_columns = [\n",
    "      'buy_type', 'starting_side', 'current_side']\n",
    "\n",
    "  unnecessary_columns = ['match_name', 'client_name', 'round_end_reason', 'round_win', 'team',\n",
    "                         'map_name',\n",
    "                         'round_start_eq_val', 'spend', '_data_id', '_match_id', 'match_win']\n",
    "\n",
    "  df.drop(labels=unnecessary_columns, inplace=True, axis=1)\n",
    "\n",
    "  # for c in categorical_value_columns:\n",
    "  #   df[c] = label_encoder.fit_transform(df[c])\n",
    "\n",
    "  input_data = pd.DataFrame([{'round_num': round_num,  'team_score': team_score,\n",
    "                            'current_side': current_side, 'starting_side': starting_side, 'buy_type': buy_type}])\n",
    "  \n",
    "  \n",
    "  for c in categorical_value_columns:\n",
    "    label_encoder.fit(list(df[c]))\n",
    "    input_data[c] = label_encoder.transform(input_data[c])\n",
    "    df[c] = label_encoder.transform(df[c])\n",
    "    \n",
    "\n",
    "  col = df.columns\n",
    "  standscl = preprocessing.StandardScaler()\n",
    "  standscl.fit(df)\n",
    "\n",
    "  df = df[input_data.columns]\n",
    "  normalised_input_data = standscl.transform(input_data)\n",
    "  normalised_input_data = pd.DataFrame(input_data, columns=col)\n",
    "\n",
    "  return normalised_input_data\n",
    "\n",
    "def get_possible_buytypes(team_budget:int):\n",
    "  affordable_buy_types = list()\n",
    "  if(team_budget >= 0):\n",
    "    affordable_buy_types.append('Full Eco')  \n",
    "\n",
    "  if(team_budget >= 2000):\n",
    "    affordable_buy_types.append('Eco')\n",
    "\n",
    "  if(team_budget >= 6000):\n",
    "    affordable_buy_types.append('Half Buy')\n",
    "\n",
    "  if(team_budget >= 20000):\n",
    "    affordable_buy_types.append('Full Buy')\n",
    "\n",
    "  return affordable_buy_types\n"
   ]
  },
  {
   "cell_type": "code",
   "execution_count": 6,
   "metadata": {},
   "outputs": [],
   "source": [
    "def get_best_decision(ROUND_NUM, TEAM_SCORE, CURRENT_SIDE, STARTING_SIDE, BUDGET, log=True):\n",
    "  possible_buy_types = get_possible_buytypes(BUDGET)\n",
    "  if log:\n",
    "    print(f\"The possible buy types are: {', '.join(possible_buy_types)}\")\n",
    "  best_win_prob = 0\n",
    "  best_buy_type = possible_buy_types[0]\n",
    "  for bt in possible_buy_types:\n",
    "    normalised_input_data = normalise_data(\n",
    "        ROUND_NUM, TEAM_SCORE, CURRENT_SIDE, STARTING_SIDE, buy_type=bt)\n",
    "    win_probability = model.predict_proba(normalised_input_data.values)[0][1]\n",
    "    if log:\n",
    "      print(win_probability)\n",
    "    if win_probability > best_win_prob:\n",
    "        best_win_prob = win_probability\n",
    "        best_buy_type = bt\n",
    "\n",
    "  return best_win_prob, best_buy_type\n",
    "\n",
    "\n",
    "def get_prob_for_decision(ROUND_NUM, TEAM_SCORE, CURRENT_SIDE, STARTING_SIDE, DECISION):\n",
    "  normalised_input_data = normalise_data(\n",
    "      ROUND_NUM, TEAM_SCORE, CURRENT_SIDE, STARTING_SIDE, buy_type=DECISION)\n",
    "  win_probability = model.predict_proba(normalised_input_data.values)[0][1]\n",
    "  return win_probability\n"
   ]
  },
  {
   "cell_type": "code",
   "execution_count": 7,
   "metadata": {},
   "outputs": [
    {
     "name": "stdout",
     "output_type": "stream",
     "text": [
      "The possible buy types are: Full Eco, Eco, Half Buy\n",
      "0.1805373711200488\n",
      "0.2499955423436578\n",
      "0.15190356606362557\n",
      "================================================================\n",
      "The best buy type in the current Situation would be: Eco. \n",
      "The game win probability would be 0.2499955423436578.\n"
     ]
    }
   ],
   "source": [
    "# Adjust Situation to predict buy type\n",
    "\n",
    "ROUND_NUM = 16\n",
    "TEAM_SCORE = 4\n",
    "CURRENT_SIDE = 'CT'\n",
    "STARTING_SIDE = 'T'\n",
    "\n",
    "BUDGET = 12000;\n",
    "\n",
    "\n",
    "best_win_prob, best_buy_type = get_best_decision(ROUND_NUM, TEAM_SCORE, CURRENT_SIDE, STARTING_SIDE, BUDGET)\n",
    "\n",
    "print('================================================================')\n",
    "print(f\"\"\"The best buy type in the current Situation would be: {best_buy_type}. \n",
    "The game win probability would be {best_win_prob}.\"\"\")"
   ]
  },
  {
   "cell_type": "code",
   "execution_count": 8,
   "metadata": {},
   "outputs": [],
   "source": [
    "data = pd.read_feather(\n",
    "      '../data/processed/team_score_and_buy__dataset__training.feather')\n",
    "\n",
    "data = data.sample(1000)\n",
    "\n",
    "data['probability_for_decision'] = data.apply(lambda x: get_prob_for_decision(x.round_num, x.team_score, x.current_side, x.starting_side, x.buy_type), axis=1)\n",
    "data['probability_for_best_decision'] = data.apply(lambda x: get_best_decision(x.round_num, x.team_score, x.current_side, x.starting_side, x.spend, log=False)[0], axis=1)"
   ]
  },
  {
   "cell_type": "code",
   "execution_count": 49,
   "metadata": {},
   "outputs": [],
   "source": [
    "\n",
    "import matplotlib.pyplot as plt\n",
    "import seaborn as sns\n",
    "import matplotlib as mpl\n",
    "\n",
    "mpl.use('pgf')\n",
    "\n",
    "sns.set_theme(style=\"whitegrid\")\n",
    "\n",
    "# use latex pgf format instead of png\n",
    "plt.rcParams.update({\n",
    "    'font.family': 'serif',\n",
    "    'text.usetex': True,\n",
    "    'pgf.rcfonts': False,\n",
    "})"
   ]
  },
  {
   "cell_type": "code",
   "execution_count": 70,
   "metadata": {},
   "outputs": [
    {
     "name": "stderr",
     "output_type": "stream",
     "text": [
      "/var/folders/rx/myrnync97q7ggmbf2sn6pj6w0000gn/T/ipykernel_81705/4091597233.py:4: SettingWithCopyWarning: \n",
      "A value is trying to be set on a copy of a slice from a DataFrame\n",
      "\n",
      "See the caveats in the documentation: https://pandas.pydata.org/pandas-docs/stable/user_guide/indexing.html#returning-a-view-versus-a-copy\n",
      "  optimal['Decision Type'] = 'Optimal Decision'\n",
      "/var/folders/rx/myrnync97q7ggmbf2sn6pj6w0000gn/T/ipykernel_81705/4091597233.py:5: SettingWithCopyWarning: \n",
      "A value is trying to be set on a copy of a slice from a DataFrame\n",
      "\n",
      "See the caveats in the documentation: https://pandas.pydata.org/pandas-docs/stable/user_guide/indexing.html#returning-a-view-versus-a-copy\n",
      "  actual['Decision Type'] = 'Actual Decision'\n"
     ]
    },
    {
     "ename": "ValueError",
     "evalue": "Could not interpret input 'Win Probability'",
     "output_type": "error",
     "traceback": [
      "\u001b[0;31m---------------------------------------------------------------------------\u001b[0m",
      "\u001b[0;31mValueError\u001b[0m                                Traceback (most recent call last)",
      "\u001b[1;32m/Users/moritz/Downloads/cs_go_team_decisions/notebooks/AdvisingPlayerDecisions.ipynb Cell 7'\u001b[0m in \u001b[0;36m<cell line: 12>\u001b[0;34m()\u001b[0m\n\u001b[1;32m      <a href='vscode-notebook-cell:/Users/moritz/Downloads/cs_go_team_decisions/notebooks/AdvisingPlayerDecisions.ipynb#ch0000006?line=6'>7</a>\u001b[0m data_to_plot \u001b[39m=\u001b[39m pd\u001b[39m.\u001b[39mconcat([optimal, actual])\n\u001b[1;32m      <a href='vscode-notebook-cell:/Users/moritz/Downloads/cs_go_team_decisions/notebooks/AdvisingPlayerDecisions.ipynb#ch0000006?line=7'>8</a>\u001b[0m \u001b[39m# data_to_plot[\"Side\"] = data_to_plot[\"Side\"].astype(\"category\")\u001b[39;00m\n\u001b[1;32m      <a href='vscode-notebook-cell:/Users/moritz/Downloads/cs_go_team_decisions/notebooks/AdvisingPlayerDecisions.ipynb#ch0000006?line=8'>9</a>\u001b[0m \u001b[39m# data_to_plot = data_to_plot[['Win Probability', 'Side', 'Decision Type']]\u001b[39;00m\n\u001b[1;32m     <a href='vscode-notebook-cell:/Users/moritz/Downloads/cs_go_team_decisions/notebooks/AdvisingPlayerDecisions.ipynb#ch0000006?line=9'>10</a>\u001b[0m \u001b[39m# print(data_to_plot)\u001b[39;00m\n\u001b[1;32m     <a href='vscode-notebook-cell:/Users/moritz/Downloads/cs_go_team_decisions/notebooks/AdvisingPlayerDecisions.ipynb#ch0000006?line=10'>11</a>\u001b[0m \u001b[39m# create seaborn boxplots by group\u001b[39;00m\n\u001b[0;32m---> <a href='vscode-notebook-cell:/Users/moritz/Downloads/cs_go_team_decisions/notebooks/AdvisingPlayerDecisions.ipynb#ch0000006?line=11'>12</a>\u001b[0m sns\u001b[39m.\u001b[39;49mboxplot(x\u001b[39m=\u001b[39;49m\u001b[39m'\u001b[39;49m\u001b[39mDecision Type\u001b[39;49m\u001b[39m'\u001b[39;49m, y\u001b[39m=\u001b[39;49m\u001b[39m'\u001b[39;49m\u001b[39mWin Probability\u001b[39;49m\u001b[39m'\u001b[39;49m, data\u001b[39m=\u001b[39;49mdata_to_plot)\n\u001b[1;32m     <a href='vscode-notebook-cell:/Users/moritz/Downloads/cs_go_team_decisions/notebooks/AdvisingPlayerDecisions.ipynb#ch0000006?line=12'>13</a>\u001b[0m \u001b[39m# plt.set\u001b[39;00m\n\u001b[1;32m     <a href='vscode-notebook-cell:/Users/moritz/Downloads/cs_go_team_decisions/notebooks/AdvisingPlayerDecisions.ipynb#ch0000006?line=13'>14</a>\u001b[0m plt\u001b[39m.\u001b[39mshow()\n",
      "File \u001b[0;32m~/miniconda3/envs/fusionbase_3.9/lib/python3.9/site-packages/seaborn/_decorators.py:46\u001b[0m, in \u001b[0;36m_deprecate_positional_args.<locals>.inner_f\u001b[0;34m(*args, **kwargs)\u001b[0m\n\u001b[1;32m     36\u001b[0m     warnings\u001b[39m.\u001b[39mwarn(\n\u001b[1;32m     37\u001b[0m         \u001b[39m\"\u001b[39m\u001b[39mPass the following variable\u001b[39m\u001b[39m{}\u001b[39;00m\u001b[39m as \u001b[39m\u001b[39m{}\u001b[39;00m\u001b[39mkeyword arg\u001b[39m\u001b[39m{}\u001b[39;00m\u001b[39m: \u001b[39m\u001b[39m{}\u001b[39;00m\u001b[39m. \u001b[39m\u001b[39m\"\u001b[39m\n\u001b[1;32m     38\u001b[0m         \u001b[39m\"\u001b[39m\u001b[39mFrom version 0.12, the only valid positional argument \u001b[39m\u001b[39m\"\u001b[39m\n\u001b[0;32m   (...)\u001b[0m\n\u001b[1;32m     43\u001b[0m         \u001b[39mFutureWarning\u001b[39;00m\n\u001b[1;32m     44\u001b[0m     )\n\u001b[1;32m     45\u001b[0m kwargs\u001b[39m.\u001b[39mupdate({k: arg \u001b[39mfor\u001b[39;00m k, arg \u001b[39min\u001b[39;00m \u001b[39mzip\u001b[39m(sig\u001b[39m.\u001b[39mparameters, args)})\n\u001b[0;32m---> 46\u001b[0m \u001b[39mreturn\u001b[39;00m f(\u001b[39m*\u001b[39;49m\u001b[39m*\u001b[39;49mkwargs)\n",
      "File \u001b[0;32m~/miniconda3/envs/fusionbase_3.9/lib/python3.9/site-packages/seaborn/categorical.py:2243\u001b[0m, in \u001b[0;36mboxplot\u001b[0;34m(x, y, hue, data, order, hue_order, orient, color, palette, saturation, width, dodge, fliersize, linewidth, whis, ax, **kwargs)\u001b[0m\n\u001b[1;32m   2231\u001b[0m \u001b[39m@_deprecate_positional_args\u001b[39m\n\u001b[1;32m   2232\u001b[0m \u001b[39mdef\u001b[39;00m \u001b[39mboxplot\u001b[39m(\n\u001b[1;32m   2233\u001b[0m     \u001b[39m*\u001b[39m,\n\u001b[0;32m   (...)\u001b[0m\n\u001b[1;32m   2240\u001b[0m     \u001b[39m*\u001b[39m\u001b[39m*\u001b[39mkwargs\n\u001b[1;32m   2241\u001b[0m ):\n\u001b[0;32m-> 2243\u001b[0m     plotter \u001b[39m=\u001b[39m _BoxPlotter(x, y, hue, data, order, hue_order,\n\u001b[1;32m   2244\u001b[0m                           orient, color, palette, saturation,\n\u001b[1;32m   2245\u001b[0m                           width, dodge, fliersize, linewidth)\n\u001b[1;32m   2247\u001b[0m     \u001b[39mif\u001b[39;00m ax \u001b[39mis\u001b[39;00m \u001b[39mNone\u001b[39;00m:\n\u001b[1;32m   2248\u001b[0m         ax \u001b[39m=\u001b[39m plt\u001b[39m.\u001b[39mgca()\n",
      "File \u001b[0;32m~/miniconda3/envs/fusionbase_3.9/lib/python3.9/site-packages/seaborn/categorical.py:406\u001b[0m, in \u001b[0;36m_BoxPlotter.__init__\u001b[0;34m(self, x, y, hue, data, order, hue_order, orient, color, palette, saturation, width, dodge, fliersize, linewidth)\u001b[0m\n\u001b[1;32m    402\u001b[0m \u001b[39mdef\u001b[39;00m \u001b[39m__init__\u001b[39m(\u001b[39mself\u001b[39m, x, y, hue, data, order, hue_order,\n\u001b[1;32m    403\u001b[0m              orient, color, palette, saturation,\n\u001b[1;32m    404\u001b[0m              width, dodge, fliersize, linewidth):\n\u001b[0;32m--> 406\u001b[0m     \u001b[39mself\u001b[39;49m\u001b[39m.\u001b[39;49mestablish_variables(x, y, hue, data, orient, order, hue_order)\n\u001b[1;32m    407\u001b[0m     \u001b[39mself\u001b[39m\u001b[39m.\u001b[39mestablish_colors(color, palette, saturation)\n\u001b[1;32m    409\u001b[0m     \u001b[39mself\u001b[39m\u001b[39m.\u001b[39mdodge \u001b[39m=\u001b[39m dodge\n",
      "File \u001b[0;32m~/miniconda3/envs/fusionbase_3.9/lib/python3.9/site-packages/seaborn/categorical.py:153\u001b[0m, in \u001b[0;36m_CategoricalPlotter.establish_variables\u001b[0;34m(self, x, y, hue, data, orient, order, hue_order, units)\u001b[0m\n\u001b[1;32m    151\u001b[0m     \u001b[39mif\u001b[39;00m \u001b[39misinstance\u001b[39m(var, \u001b[39mstr\u001b[39m):\n\u001b[1;32m    152\u001b[0m         err \u001b[39m=\u001b[39m \u001b[39m\"\u001b[39m\u001b[39mCould not interpret input \u001b[39m\u001b[39m'\u001b[39m\u001b[39m{}\u001b[39;00m\u001b[39m'\u001b[39m\u001b[39m\"\u001b[39m\u001b[39m.\u001b[39mformat(var)\n\u001b[0;32m--> 153\u001b[0m         \u001b[39mraise\u001b[39;00m \u001b[39mValueError\u001b[39;00m(err)\n\u001b[1;32m    155\u001b[0m \u001b[39m# Figure out the plotting orientation\u001b[39;00m\n\u001b[1;32m    156\u001b[0m orient \u001b[39m=\u001b[39m infer_orient(\n\u001b[1;32m    157\u001b[0m     x, y, orient, require_numeric\u001b[39m=\u001b[39m\u001b[39mself\u001b[39m\u001b[39m.\u001b[39mrequire_numeric\n\u001b[1;32m    158\u001b[0m )\n",
      "\u001b[0;31mValueError\u001b[0m: Could not interpret input 'Win Probability'"
     ]
    }
   ],
   "source": [
    "\n",
    "\n",
    "optimal, actual = data[['probability_for_best_decision']], data[['probability_for_decision']]\n",
    "optimal.columns, actual.columns = ['Win Probability'], ['Win Probability']\n",
    "\n",
    "optimal['Decision Type'] = 'Optimal Decision'\n",
    "actual['Decision Type'] = 'Actual Decision'\n",
    "\n",
    "data_to_plot = pd.concat([optimal, actual])\n",
    "# data_to_plot[\"Side\"] = data_to_plot[\"Side\"].astype(\"category\")\n",
    "# data_to_plot = data_to_plot[['Win Probability', 'Side', 'Decision Type']]\n",
    "# print(data_to_plot)\n",
    "# create seaborn boxplots by group\n",
    "sns.boxplot(x='Decision Type', y='Win Probability', data=data_to_plot)\n",
    "# plt.set\n",
    "plt.show()\n",
    "# plt.savefig(\"../reports/figures/comparing_optimal_and_actual.pgf\")"
   ]
  }
 ],
 "metadata": {
  "kernelspec": {
   "display_name": "Python 3.9.7 ('fusionbase_3.9')",
   "language": "python",
   "name": "python3"
  },
  "language_info": {
   "codemirror_mode": {
    "name": "ipython",
    "version": 3
   },
   "file_extension": ".py",
   "mimetype": "text/x-python",
   "name": "python",
   "nbconvert_exporter": "python",
   "pygments_lexer": "ipython3",
   "version": "3.9.7"
  },
  "orig_nbformat": 4,
  "vscode": {
   "interpreter": {
    "hash": "2d654b481e9af9ab9195ebc836c4e620ce7598a7a66276e5eb1a84aaaeea7913"
   }
  }
 },
 "nbformat": 4,
 "nbformat_minor": 2
}
