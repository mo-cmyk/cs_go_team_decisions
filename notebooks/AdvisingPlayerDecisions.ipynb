{
 "cells": [
  {
   "cell_type": "code",
   "execution_count": 2,
   "metadata": {},
   "outputs": [],
   "source": [
    "# imports\n",
    "import pickle\n",
    "\n",
    "import pandas as pd\n",
    "from sklearn import preprocessing\n",
    "from sklearn.model_selection import train_test_split"
   ]
  },
  {
   "cell_type": "code",
   "execution_count": 3,
   "metadata": {},
   "outputs": [
    {
     "name": "stderr",
     "output_type": "stream",
     "text": [
      "/Users/moritz/miniconda3/envs/fusionbase_3.9/lib/python3.9/site-packages/sklearn/base.py:329: UserWarning: Trying to unpickle estimator LabelBinarizer from version 1.0.2 when using version 1.1.1. This might lead to breaking code or invalid results. Use at your own risk. For more info please refer to:\n",
      "https://scikit-learn.org/stable/model_persistence.html#security-maintainability-limitations\n",
      "  warnings.warn(\n",
      "/Users/moritz/miniconda3/envs/fusionbase_3.9/lib/python3.9/site-packages/sklearn/base.py:329: UserWarning: Trying to unpickle estimator MLPClassifier from version 1.0.2 when using version 1.1.1. This might lead to breaking code or invalid results. Use at your own risk. For more info please refer to:\n",
      "https://scikit-learn.org/stable/model_persistence.html#security-maintainability-limitations\n",
      "  warnings.warn(\n"
     ]
    }
   ],
   "source": [
    "# load the Model\n",
    "with open('../models/mlp_classifier.pkl', 'rb') as f:\n",
    "    model = pickle.load(f)\n",
    "\n",
    "\n",
    "def normalise_data(round_num: int,  team_score: int,  current_side: str, starting_side: str,  buy_type: str) -> pd.DataFrame:\n",
    "  df = pd.read_feather(\n",
    "      '../data/processed/team_score_and_buy__dataset__training.feather')\n",
    "  \n",
    "  label_encoder = preprocessing.LabelEncoder()\n",
    "  categorical_value_columns = [\n",
    "      'buy_type', 'starting_side', 'current_side']\n",
    "\n",
    "  unnecessary_columns = ['match_name', 'client_name', 'round_end_reason', 'round_win', 'team',\n",
    "                         'map_name',\n",
    "                         'round_start_eq_val', 'spend', '_data_id', '_match_id', 'match_win']\n",
    "\n",
    "  df.drop(labels=unnecessary_columns, inplace=True, axis=1)\n",
    "\n",
    "  # for c in categorical_value_columns:\n",
    "  #   df[c] = label_encoder.fit_transform(df[c])\n",
    "\n",
    "  input_data = pd.DataFrame([{'round_num': round_num,  'team_score': team_score,\n",
    "                            'current_side': current_side, 'starting_side': starting_side, 'buy_type': buy_type}])\n",
    "  \n",
    "  \n",
    "  for c in categorical_value_columns:\n",
    "    label_encoder.fit(list(df[c]))\n",
    "    input_data[c] = label_encoder.transform(input_data[c])\n",
    "    df[c] = label_encoder.transform(df[c])\n",
    "    \n",
    "\n",
    "  col = df.columns\n",
    "  standscl = preprocessing.StandardScaler()\n",
    "  standscl.fit(df)\n",
    "\n",
    "  df = df[input_data.columns]\n",
    "  normalised_input_data = standscl.transform(input_data)\n",
    "  normalised_input_data = pd.DataFrame(input_data, columns=col)\n",
    "\n",
    "  return normalised_input_data\n",
    "\n",
    "def get_possible_buytypes(team_budget:int):\n",
    "  affordable_buy_types = list()\n",
    "  if(team_budget >= 0):\n",
    "    affordable_buy_types.append('Full Eco')  \n",
    "\n",
    "  if(team_budget >= 2000):\n",
    "    affordable_buy_types.append('Eco')\n",
    "\n",
    "  if(team_budget >= 6000):\n",
    "    affordable_buy_types.append('Half Buy')\n",
    "\n",
    "  if(team_budget >= 20000):\n",
    "    affordable_buy_types.append('Full Buy')\n",
    "\n",
    "  return affordable_buy_types\n"
   ]
  },
  {
   "cell_type": "code",
   "execution_count": 26,
   "metadata": {},
   "outputs": [],
   "source": [
    "def get_best_decision(ROUND_NUM, TEAM_SCORE, CURRENT_SIDE, STARTING_SIDE, BUDGET, log=True):\n",
    "  possible_buy_types = get_possible_buytypes(BUDGET)\n",
    "  if log:\n",
    "    print(f\"The possible buy types are: {', '.join(possible_buy_types)}\")\n",
    "  best_win_prob = 0\n",
    "  best_buy_type = possible_buy_types[0]\n",
    "  for bt in possible_buy_types:\n",
    "    normalised_input_data = normalise_data(\n",
    "        ROUND_NUM, TEAM_SCORE, CURRENT_SIDE, STARTING_SIDE, buy_type=bt)\n",
    "    win_probability = model.predict_proba(normalised_input_data.values)[0][1]\n",
    "    if log:\n",
    "      print(win_probability)\n",
    "    if win_probability > best_win_prob:\n",
    "        best_win_prob = win_probability\n",
    "        best_buy_type = bt\n",
    "\n",
    "  return best_win_prob, best_buy_type\n",
    "\n",
    "\n",
    "def get_prob_for_decision(ROUND_NUM, TEAM_SCORE, CURRENT_SIDE, STARTING_SIDE, DECISION):\n",
    "  normalised_input_data = normalise_data(\n",
    "      ROUND_NUM, TEAM_SCORE, CURRENT_SIDE, STARTING_SIDE, buy_type=DECISION)\n",
    "  win_probability = model.predict_proba(normalised_input_data.values)[0][1]\n",
    "  return win_probability\n"
   ]
  },
  {
   "cell_type": "code",
   "execution_count": 27,
   "metadata": {},
   "outputs": [
    {
     "name": "stdout",
     "output_type": "stream",
     "text": [
      "The possible buy types are: Full Eco, Eco, Half Buy\n",
      "0.1805373711200488\n",
      "0.2499955423436578\n",
      "0.15190356606362557\n",
      "================================================================\n",
      "The best buy type in the current Situation would be: Eco. \n",
      "The game win probability would be 0.2499955423436578.\n"
     ]
    }
   ],
   "source": [
    "# Adjust Situation to predict buy type\n",
    "\n",
    "ROUND_NUM = 16\n",
    "TEAM_SCORE = 4\n",
    "CURRENT_SIDE = 'CT'\n",
    "STARTING_SIDE = 'T'\n",
    "\n",
    "BUDGET = 12000;\n",
    "\n",
    "\n",
    "best_win_prob, best_buy_type = get_best_decision(ROUND_NUM, TEAM_SCORE, CURRENT_SIDE, STARTING_SIDE, BUDGET)\n",
    "\n",
    "print('================================================================')\n",
    "print(f\"\"\"The best buy type in the current Situation would be: {best_buy_type}. \n",
    "The game win probability would be {best_win_prob}.\"\"\")"
   ]
  },
  {
   "cell_type": "code",
   "execution_count": 100,
   "metadata": {},
   "outputs": [],
   "source": [
    "data = pd.read_feather(\n",
    "      '../data/processed/team_score_and_buy__dataset__training.feather')\n",
    "\n",
    "data = data.sample(1000)\n",
    "\n",
    "data['probability_for_decision'] = data.apply(lambda x: get_prob_for_decision(x.round_num, x.team_score, x.current_side, x.starting_side, x.buy_type), axis=1)\n",
    "data['probability_for_best_decision'] = data.apply(lambda x: get_best_decision(x.round_num, x.team_score, x.current_side, x.starting_side, x.spend, log=False)[0], axis=1)"
   ]
  },
  {
   "cell_type": "code",
   "execution_count": 112,
   "metadata": {},
   "outputs": [],
   "source": [
    "\n",
    "import matplotlib.pyplot as plt\n",
    "import seaborn as sns\n",
    "import matplotlib as mpl\n",
    "\n",
    "mpl.use('pgf')\n",
    "\n",
    "sns.set_theme(style=\"whitegrid\")\n",
    "\n",
    "# use latex pgf format instead of png\n",
    "plt.rcParams.update({\n",
    "    'font.family': 'serif',\n",
    "    'text.usetex': True,\n",
    "    'pgf.rcfonts': False,\n",
    "})"
   ]
  },
  {
   "cell_type": "code",
   "execution_count": 115,
   "metadata": {},
   "outputs": [
    {
     "data": {
      "image/png": "[encoded data removed]",
      "text/plain": [
       "<Figure size 432x288 with 1 Axes>"
      ]
     },
     "metadata": {},
     "output_type": "display_data"
    }
   ],
   "source": [
    "optimal, actual = data['probability_for_best_decision'].reset_index(), data['probability_for_decision'].reset_index()\n",
    "optimal.columns, actual.columns = ['index', 'Win Probability'], ['index', 'Win Probability']\n",
    "\n",
    "\n",
    "optimal['Decision Type'] = 'Optimal Decision'\n",
    "actual['Decision Type'] = 'Actual Decision'\n",
    "\n",
    "data_to_plot = pd.concat([optimal, actual])\n",
    "# create seaborn boxplots by group\n",
    "sns.boxplot(x='Decision Type', y='Win Probability', data=data_to_plot)\n",
    "\n",
    "# plt.show()\n",
    "plt.savefig(\"../reports/figures/comparing_optimal_and_actual.pgf\")"
   ]
  }
 ],
 "metadata": {
  "kernelspec": {
   "display_name": "Python 3.9.7 ('fusionbase_3.9')",
   "language": "python",
   "name": "python3"
  },
  "language_info": {
   "codemirror_mode": {
    "name": "ipython",
    "version": 3
   },
   "file_extension": ".py",
   "mimetype": "text/x-python",
   "name": "python",
   "nbconvert_exporter": "python",
   "pygments_lexer": "ipython3",
   "version": "3.9.7"
  },
  "orig_nbformat": 4,
  "vscode": {
   "interpreter": {
    "hash": "2d654b481e9af9ab9195ebc836c4e620ce7598a7a66276e5eb1a84aaaeea7913"
   }
  }
 },
 "nbformat": 4,
 "nbformat_minor": 2
}
